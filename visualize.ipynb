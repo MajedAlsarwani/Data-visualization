{
 "cells": [
  {
   "cell_type": "code",
   "execution_count": null,
   "id": "4a8de4e0",
   "metadata": {},
   "outputs": [
    {
     "ename": "",
     "evalue": "",
     "output_type": "error",
     "traceback": [
      "\u001b[1;31mRunning cells with 'Python 3.11.5' requires the ipykernel package.\n",
      "\u001b[1;31m<a href='command:jupyter.createPythonEnvAndSelectController'>Create a Python Environment</a> with the required packages."
     ]
    }
   ],
   "source": [
    "import pandas as pd\n",
    "import matplotlib.pyplot as plt\n",
    "import seaborn as sns\n",
    "\n",
    "# Load the CSV file\n",
    "df = pd.read_csv(\"sample_data.csv\")\n",
    "\n",
    "# Set style\n",
    "sns.set(style=\"whitegrid\")\n",
    "\n",
    "# -------- 1. Bar Chart: Total Value per Category --------\n",
    "category_totals = df.groupby(\"Category\")[\"Value\"].sum().sort_values(ascending=False)\n",
    "\n",
    "plt.figure(figsize=(10, 6))\n",
    "sns.barplot(x=category_totals.values, y=category_totals.index, palette=\"Blues_d\")\n",
    "plt.title(\"Total Value by Category\")\n",
    "plt.xlabel(\"Value\")\n",
    "plt.ylabel(\"Category\")\n",
    "plt.tight_layout()\n",
    "plt.savefig(\"bar_chart_category.png\")\n",
    "plt.show()\n",
    "\n",
    "# -------- 2. Grouped Bar Chart: Subcategories per Category --------\n",
    "plt.figure(figsize=(12, 6))\n",
    "sns.barplot(data=df, x=\"Category\", y=\"Value\", hue=\"Subcategory\", palette=\"tab20\")\n",
    "plt.title(\"Subcategory Values by Category\")\n",
    "plt.xticks(rotation=45)\n",
    "plt.tight_layout()\n",
    "plt.savefig(\"grouped_bar_chart.png\")\n",
    "plt.show()\n",
    "\n",
    "# -------- 3. Pie Chart: Share by Category --------\n",
    "plt.figure(figsize=(8, 8))\n",
    "plt.pie(category_totals.values, labels=category_totals.index, autopct='%1.1f%%', startangle=140, colors=sns.color_palette(\"pastel\"))\n",
    "plt.title(\"Category Share (Pie Chart)\")\n",
    "plt.tight_layout()\n",
    "plt.savefig(\"pie_chart_category.png\")\n",
    "plt.show()\n"
   ]
  }
 ],
 "metadata": {
  "kernelspec": {
   "display_name": "Python 3",
   "language": "python",
   "name": "python3"
  },
  "language_info": {
   "name": "python",
   "version": "3.11.5"
  }
 },
 "nbformat": 4,
 "nbformat_minor": 5
}
